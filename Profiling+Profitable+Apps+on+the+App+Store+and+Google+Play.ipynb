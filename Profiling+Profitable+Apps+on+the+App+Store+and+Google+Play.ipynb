{
 "cells": [
  {
   "cell_type": "markdown",
   "metadata": {},
   "source": [
    "# Profiling Profitable Apps on the App Store and Google Play\n",
    "\n",
    "The aim of this project is to determine the types of that are most likely to be profitable/generate the highest revenue, in order to inform the decision making of a hypothetical app developer. This hypothetical app developer creates apps that are free and primarily in english. \n",
    "\n",
    "As the apps developed are free, the revenues generated are from in-app advertisement and are a function of the ad engagment/number of app users. The goal of this analysis is to profile an app that can be successful at attracting a lot of users on the Playstore as well as the App Store.\n",
    "\n",
    "*NB: This analysis has been completed as a Guided Project in Dataquest.io's Python for Data Science: Fundamental course*"
   ]
  },
  {
   "cell_type": "markdown",
   "metadata": {},
   "source": [
    "# Exploring The Data\n",
    "\n",
    "This analysis will be conducted using two existing datasets: [googleplaystore.csv](https://www.kaggle.com/lava18/google-play-store-apps/home) by Laranya Gupta, which stores 2018 data on about 10,000 android apps, and [appleStore.csv](https://www.kaggle.com/ramamet4/app-store-apple-data-set-10k-apps/home#AppleStore.csv) by Ramanthan Perumal, which stores 2018 data on about 7,000 iOS apps."
   ]
  },
  {
   "cell_type": "code",
   "execution_count": 50,
   "metadata": {
    "collapsed": true,
    "jupyter": {
     "outputs_hidden": true
    }
   },
   "outputs": [],
   "source": [
    "# As mentioned above, the two data sets to be used are stored in CSV files, AppleStore.csv and googleplaystore.csv respectively.\n",
    "#They will be opened with the following code.\n",
    "\n",
    "from csv import reader\n",
    "#Open the Play Store dataset\n",
    "google_opened= open('googleplaystore.csv')\n",
    "google_read= reader(google_opened)\n",
    "android_apps= list(google_read)\n",
    "android_apps_header= android_apps[0]\n",
    "android_apps= android_apps[1:]\n",
    "\n",
    "#Open the App Store dataset\n",
    "apple_opened= open('AppleStore.csv')\n",
    "apple_read= reader(apple_opened)\n",
    "ios_apps= list(apple_read)\n",
    "ios_apps_header= ios_apps[0]\n",
    "ios_apps= ios_apps[1:]"
   ]
  },
  {
   "cell_type": "markdown",
   "metadata": {},
   "source": [
    "In order to efficiently explore these large datasets and extract useful information such as the content of each row and the number of rows & columns, a new function has been defined:"
   ]
  },
  {
   "cell_type": "code",
   "execution_count": 51,
   "metadata": {
    "collapsed": false,
    "jupyter": {
     "outputs_hidden": false
    }
   },
   "outputs": [
    {
     "name": "stdout",
     "output_type": "stream",
     "text": [
      "ios Apps Explored:\n",
      "['id', 'track_name', 'size_bytes', 'currency', 'price', 'rating_count_tot', 'rating_count_ver', 'user_rating', 'user_rating_ver', 'ver', 'cont_rating', 'prime_genre', 'sup_devices.num', 'ipadSc_urls.num', 'lang.num', 'vpp_lic']\n",
      "\n",
      "\n",
      "['284882215', 'Facebook', '389879808', 'USD', '0.0', '2974676', '212', '3.5', '3.5', '95.0', '4+', 'Social Networking', '37', '1', '29', '1']\n",
      "\n",
      "\n",
      "['389801252', 'Instagram', '113954816', 'USD', '0.0', '2161558', '1289', '4.5', '4.0', '10.23', '12+', 'Photo & Video', '37', '0', '29', '1']\n",
      "\n",
      "\n",
      "['529479190', 'Clash of Clans', '116476928', 'USD', '0.0', '2130805', '579', '4.5', '4.5', '9.24.12', '9+', 'Games', '38', '5', '18', '1']\n",
      "\n",
      "\n",
      "['420009108', 'Temple Run', '65921024', 'USD', '0.0', '1724546', '3842', '4.5', '4.0', '1.6.2', '9+', 'Games', '40', '5', '1', '1']\n",
      "\n",
      "\n",
      "['284035177', 'Pandora - Music & Radio', '130242560', 'USD', '0.0', '1126879', '3594', '4.0', '4.5', '8.4.1', '12+', 'Music', '37', '4', '1', '1']\n",
      "\n",
      "\n",
      "Number of rows: 7197\n",
      "Number of columns: 16\n",
      "\n",
      "\n",
      "Play Store Apps Explored:\n",
      "['App', 'Category', 'Rating', 'Reviews', 'Size', 'Installs', 'Type', 'Price', 'Content Rating', 'Genres', 'Last Updated', 'Current Ver', 'Android Ver']\n",
      "\n",
      "\n",
      "['Photo Editor & Candy Camera & Grid & ScrapBook', 'ART_AND_DESIGN', '4.1', '159', '19M', '10,000+', 'Free', '0', 'Everyone', 'Art & Design', 'January 7, 2018', '1.0.0', '4.0.3 and up']\n",
      "\n",
      "\n",
      "['Coloring book moana', 'ART_AND_DESIGN', '3.9', '967', '14M', '500,000+', 'Free', '0', 'Everyone', 'Art & Design;Pretend Play', 'January 15, 2018', '2.0.0', '4.0.3 and up']\n",
      "\n",
      "\n",
      "['U Launcher Lite – FREE Live Cool Themes, Hide Apps', 'ART_AND_DESIGN', '4.7', '87510', '8.7M', '5,000,000+', 'Free', '0', 'Everyone', 'Art & Design', 'August 1, 2018', '1.2.4', '4.0.3 and up']\n",
      "\n",
      "\n",
      "['Sketch - Draw & Paint', 'ART_AND_DESIGN', '4.5', '215644', '25M', '50,000,000+', 'Free', '0', 'Teen', 'Art & Design', 'June 8, 2018', 'Varies with device', '4.2 and up']\n",
      "\n",
      "\n",
      "['Pixel Draw - Number Art Coloring Book', 'ART_AND_DESIGN', '4.3', '967', '2.8M', '100,000+', 'Free', '0', 'Everyone', 'Art & Design;Creativity', 'June 20, 2018', '1.1', '4.4 and up']\n",
      "\n",
      "\n",
      "Number of rows: 10841\n",
      "Number of columns: 13\n"
     ]
    }
   ],
   "source": [
    "def explore_data(dataset, start,end, rows_and_columns=True):\n",
    "    dataset_slice= dataset[start:end]\n",
    "    for row in dataset_slice:\n",
    "        print(row)\n",
    "        print('\\n') #adds a new empty line after each row to improve readability\n",
    "     \n",
    "    if rows_and_columns:\n",
    "        print('Number of rows:', len(dataset))\n",
    "        print('Number of columns:', len(dataset[0]))\n",
    "        \n",
    "#Exploring the App Store apps dataset:\n",
    "print('ios Apps Explored:')\n",
    "print(ios_apps_header)\n",
    "print('\\n')\n",
    "explore_data(ios_apps,0,5, rows_and_columns=True) #Shows the data in the first 5 rows of ios_apps, excluding the header\n",
    "print('\\n')\n",
    "#Exploring the Play Store dataset:\n",
    "print('Play Store Apps Explored:')\n",
    "print (android_apps_header)\n",
    "print('\\n')\n",
    "explore_data(android_apps,0,5,rows_and_columns=True)    "
   ]
  },
  {
   "cell_type": "markdown",
   "metadata": {},
   "source": [
    "From the details above, it can be seen that the App Store dataset has 7197 rows and 16 columns, while that of Play Store has 10841 and 13 respectively. \n",
    "\n",
    "The column names for these two datasets are contained in the extracted headers. Descriptions for the App Store column names can be found [here](https://www.kaggle.com/ramamet4/app-store-apple-data-set-10k-apps/home#AppleStore.csv), while that for the Playstore can be found [here](https://www.kaggle.com/lava18/google-play-store-apps/home).\n",
    "\n",
    "With respect to the App Store and Playstore, column names \"user_rating\" and \"rating_count_tot\" seem like good proxies for positive popularity of the apps. Generally, it would also be interesting to note if there are any differences in popularity between paid and unpaid apps, if certain app genres dominate popularity and if the size of the app affects popularity, as this could inform the strategy of app developers."
   ]
  },
  {
   "cell_type": "markdown",
   "metadata": {},
   "source": [
    "# Data Cleaning"
   ]
  },
  {
   "cell_type": "markdown",
   "metadata": {},
   "source": [
    "### Deleting Unfilled/Wrong Data- Android Data"
   ]
  },
  {
   "cell_type": "markdown",
   "metadata": {},
   "source": [
    "It is possible to identify if data is missing in the rows by running a for-loop over the rows and comparing their length to the length of the header row:"
   ]
  },
  {
   "cell_type": "code",
   "execution_count": 52,
   "metadata": {
    "collapsed": false,
    "jupyter": {
     "outputs_hidden": false
    }
   },
   "outputs": [
    {
     "name": "stdout",
     "output_type": "stream",
     "text": [
      "10472\n"
     ]
    }
   ],
   "source": [
    "for row in android_apps:\n",
    "    if len(row)!=13: #From the executed code above, there are 13 column names\n",
    "        print(android_apps.index(row)) #Print the index of the row with the missing data"
   ]
  },
  {
   "cell_type": "code",
   "execution_count": 53,
   "metadata": {
    "collapsed": false,
    "jupyter": {
     "outputs_hidden": false
    },
    "scrolled": true
   },
   "outputs": [
    {
     "name": "stdout",
     "output_type": "stream",
     "text": [
      "['App', 'Category', 'Rating', 'Reviews', 'Size', 'Installs', 'Type', 'Price', 'Content Rating', 'Genres', 'Last Updated', 'Current Ver', 'Android Ver']\n",
      "\n",
      "\n",
      "['Life Made WI-Fi Touchscreen Photo Frame', '1.9', '19', '3.0M', '1,000+', 'Free', '0', 'Everyone', '', 'February 11, 2018', '1.0.19', '4.0 and up']\n",
      "\n",
      "\n",
      "['Photo Editor & Candy Camera & Grid & ScrapBook', 'ART_AND_DESIGN', '4.1', '159', '19M', '10,000+', 'Free', '0', 'Everyone', 'Art & Design', 'January 7, 2018', '1.0.0', '4.0.3 and up']\n"
     ]
    }
   ],
   "source": [
    "#Having a look at the data \n",
    "print(android_apps_header)\n",
    "print('\\n')\n",
    "print(android_apps[10472])\n",
    "print('\\n')\n",
    "print(android_apps[0])"
   ]
  },
  {
   "cell_type": "markdown",
   "metadata": {},
   "source": [
    "It can be seen that row 10472, corresponding to the \"Life Made Wi-Fi Tocuhscreen Photo Frame\", Android Apps data has a length of 12 as opposed to 13, indicating that there is data missing. Additionally, the rating for this app is 19 which is erroneous as the maximum rating for an app on the Playstore is 5. For these reasons, this row will be deleted."
   ]
  },
  {
   "cell_type": "code",
   "execution_count": 54,
   "metadata": {
    "collapsed": true,
    "jupyter": {
     "outputs_hidden": true
    }
   },
   "outputs": [],
   "source": [
    "del android_apps[10472]"
   ]
  },
  {
   "cell_type": "markdown",
   "metadata": {},
   "source": [
    "### Deleting Unfilled/Wrong Data- App Store Data"
   ]
  },
  {
   "cell_type": "markdown",
   "metadata": {},
   "source": [
    "A similar method can be employed to check if there is any unfilled data in the App Store Data:"
   ]
  },
  {
   "cell_type": "code",
   "execution_count": 55,
   "metadata": {
    "collapsed": false,
    "jupyter": {
     "outputs_hidden": false
    }
   },
   "outputs": [
    {
     "name": "stdout",
     "output_type": "stream",
     "text": [
      "0\n"
     ]
    }
   ],
   "source": [
    "ios_row_check=0 #Create a list whose value is to be increased by 1 after each iteration if row length is not equal to 16\n",
    "for row in ios_apps:\n",
    "    if len(row)!=16: #There are 16 coloumns in this data\n",
    "        ios_row_check+=1\n",
    "print(ios_row_check)\n",
    "    "
   ]
  },
  {
   "cell_type": "markdown",
   "metadata": {},
   "source": [
    "As the value of `ios_row_check` is zero, it appears that the App Store Data does not have missing values."
   ]
  },
  {
   "cell_type": "markdown",
   "metadata": {},
   "source": [
    "### Removing Duplicated Entries- Android Data"
   ]
  },
  {
   "cell_type": "markdown",
   "metadata": {},
   "source": [
    "Additionally, it is important to check that data for the same app have not been entered multiple times for the same app- that is to say, there is no duplication. It is possible to check for duplication with the following code:"
   ]
  },
  {
   "cell_type": "code",
   "execution_count": 56,
   "metadata": {
    "collapsed": false,
    "jupyter": {
     "outputs_hidden": false
    }
   },
   "outputs": [
    {
     "name": "stdout",
     "output_type": "stream",
     "text": [
      "Number of duplicated entries: 1181\n",
      "\n",
      "\n",
      "Number of unique entries 9659\n"
     ]
    }
   ],
   "source": [
    "unique_entry=[]\n",
    "duplicated_entry=[]\n",
    "\n",
    "for row in android_apps:\n",
    "    name=row[0]\n",
    "    if name in unique_entry:\n",
    "        duplicated_entry.append(name)\n",
    "    else:\n",
    "        unique_entry.append(name)\n",
    "\n",
    "print('Number of duplicated entries:', len(duplicated_entry))\n",
    "print('\\n')\n",
    "print('Number of unique entries', len(unique_entry))"
   ]
  },
  {
   "cell_type": "markdown",
   "metadata": {},
   "source": [
    "As can be seen above, there are 1181 duplicated entries. In order to continue with the analysis, it is important to develop a criteria for removing these duplicated entries."
   ]
  },
  {
   "cell_type": "code",
   "execution_count": 57,
   "metadata": {
    "collapsed": false,
    "jupyter": {
     "outputs_hidden": false
    }
   },
   "outputs": [
    {
     "name": "stdout",
     "output_type": "stream",
     "text": [
      "['Quick PDF Scanner + OCR FREE', 'Box', 'Google My Business', 'ZOOM Cloud Meetings', 'join.me - Simple Meetings', 'Box', 'Zenefits', 'Google Ads', 'Google My Business', 'Slack', 'FreshBooks Classic', 'Insightly CRM', 'QuickBooks Accounting: Invoicing & Expenses', 'HipChat - Chat Built for Teams', 'Xero Accounting Software']\n"
     ]
    }
   ],
   "source": [
    "print(duplicated_entry[0:15]) #Taking a look at some of the duplicated entries"
   ]
  },
  {
   "cell_type": "code",
   "execution_count": 58,
   "metadata": {
    "collapsed": false,
    "jupyter": {
     "outputs_hidden": false
    }
   },
   "outputs": [
    {
     "name": "stdout",
     "output_type": "stream",
     "text": [
      "['App', 'Category', 'Rating', 'Reviews', 'Size', 'Installs', 'Type', 'Price', 'Content Rating', 'Genres', 'Last Updated', 'Current Ver', 'Android Ver']\n",
      "\n",
      "\n",
      "['Quick PDF Scanner + OCR FREE', 'BUSINESS', '4.2', '80805', 'Varies with device', '5,000,000+', 'Free', '0', 'Everyone', 'Business', 'February 26, 2018', 'Varies with device', '4.0.3 and up']\n",
      "['Quick PDF Scanner + OCR FREE', 'BUSINESS', '4.2', '80805', 'Varies with device', '5,000,000+', 'Free', '0', 'Everyone', 'Business', 'February 26, 2018', 'Varies with device', '4.0.3 and up']\n",
      "['Quick PDF Scanner + OCR FREE', 'BUSINESS', '4.2', '80804', 'Varies with device', '5,000,000+', 'Free', '0', 'Everyone', 'Business', 'February 26, 2018', 'Varies with device', '4.0.3 and up']\n"
     ]
    }
   ],
   "source": [
    "#Taking a look at an example of a duplicated app\n",
    "print(android_apps_header)\n",
    "print('\\n')\n",
    "for app in android_apps:\n",
    "    name=app[0]\n",
    "    if name=='Quick PDF Scanner + OCR FREE':\n",
    "        print(app)"
   ]
  },
  {
   "cell_type": "markdown",
   "metadata": {},
   "source": [
    "From observing the data for the duplicated entries for the app, \"Quick PDF Scanner + OCR FREE\", it can be seen that the main difference is in the number of reviews column. Since the higher the number of reviews, the more recent and reliable the reviews should be, it is possible to develop a selection criterion: keep the data with the highest number of reviews and delete the duplicates. This selection criterion will be effected in the following code."
   ]
  },
  {
   "cell_type": "code",
   "execution_count": 59,
   "metadata": {
    "collapsed": false,
    "jupyter": {
     "outputs_hidden": false
    }
   },
   "outputs": [],
   "source": [
    "reviews_max={} #Create an empty dictionary to contain the reviews with the maximum ratings\n",
    "for app in android_apps:\n",
    "    name=app[0]\n",
    "    n_reviews= float(app[3]) #As the number of reviews stored as a string\n",
    "    if name in reviews_max and reviews_max[name]<n_reviews: \n",
    "        reviews_max[name]=n_reviews #If current number of reviews in current iteration is higher than that stored in the dictionary, update it with this current value\n",
    "    elif name not in reviews_max:\n",
    "        reviews_max[name]=n_reviews #Else if name not in dictionary, store number of reviews as this current value"
   ]
  },
  {
   "cell_type": "markdown",
   "metadata": {},
   "source": [
    "From earlier lines of code, it was shown that the number of unique entries is 9659. If the code for determining `reviews_max` is correct, the length of this dictionary should be equal 9659. This has been checked in the following code."
   ]
  },
  {
   "cell_type": "code",
   "execution_count": 60,
   "metadata": {
    "collapsed": false,
    "jupyter": {
     "outputs_hidden": false
    }
   },
   "outputs": [
    {
     "data": {
      "text/plain": [
       "True"
      ]
     },
     "execution_count": 60,
     "metadata": {},
     "output_type": "execute_result"
    }
   ],
   "source": [
    "len(reviews_max)==9659"
   ]
  },
  {
   "cell_type": "markdown",
   "metadata": {},
   "source": [
    "The code below will create a list that stores the cleaned data (named android_clean). If this code has been correctly constructed, the length of android_clean should be 9695. The code that checks for duplicated entires can also be reused to ensure that the number of duplicated entires is zero."
   ]
  },
  {
   "cell_type": "code",
   "execution_count": 61,
   "metadata": {
    "collapsed": false,
    "jupyter": {
     "outputs_hidden": false
    }
   },
   "outputs": [
    {
     "name": "stdout",
     "output_type": "stream",
     "text": [
      "9659\n"
     ]
    }
   ],
   "source": [
    "android_clean=[] #Create an empty list to store the new cleaned data\n",
    "already_added=[] #Store the app names that have been added to the list above\n",
    "for app in android_apps:\n",
    "    name= app[0]\n",
    "    n_reviews= float(app[3])\n",
    "    if n_reviews==reviews_max[name] and (name not in already_added): #This second not in condition is needed as multiple entries of the same app might have the same number of reviews \n",
    "        android_clean.append(app)\n",
    "        already_added.append(name)\n",
    "\n",
    "print(len(android_clean))"
   ]
  },
  {
   "cell_type": "code",
   "execution_count": 62,
   "metadata": {
    "collapsed": false,
    "jupyter": {
     "outputs_hidden": false
    }
   },
   "outputs": [
    {
     "name": "stdout",
     "output_type": "stream",
     "text": [
      "Number of duplicated entries: 0\n",
      "\n",
      "\n",
      "Number of unique entries 9659\n"
     ]
    }
   ],
   "source": [
    "#Double-check that there are no duplicated entries in android_clean\n",
    "unique_entry=[]\n",
    "duplicated_entry=[]\n",
    "\n",
    "for row in android_clean:\n",
    "    name=row[0]\n",
    "    if name in unique_entry:\n",
    "        duplicated_entry.append(name)\n",
    "    else:\n",
    "        unique_entry.append(name)\n",
    "\n",
    "print('Number of duplicated entries:', len(duplicated_entry))\n",
    "print('\\n')\n",
    "print('Number of unique entries', len(unique_entry))"
   ]
  },
  {
   "cell_type": "markdown",
   "metadata": {},
   "source": [
    "### Removing Duplicated Entries- App Store Data"
   ]
  },
  {
   "cell_type": "markdown",
   "metadata": {},
   "source": [
    "The first step is to check if there are any duplicated entries in the `ios_apps` dataset"
   ]
  },
  {
   "cell_type": "code",
   "execution_count": 63,
   "metadata": {
    "collapsed": false,
    "jupyter": {
     "outputs_hidden": false
    }
   },
   "outputs": [
    {
     "name": "stdout",
     "output_type": "stream",
     "text": [
      "Number of duplicated entries: 0\n",
      "\n",
      "\n",
      "Number of unique entries 7197\n"
     ]
    }
   ],
   "source": [
    "unique_entry=[]\n",
    "duplicated_entry=[]\n",
    "\n",
    "for row in ios_apps:\n",
    "    name=row[0]\n",
    "    if name in unique_entry:\n",
    "        duplicated_entry.append(name)\n",
    "    else:\n",
    "        unique_entry.append(name)\n",
    "\n",
    "print('Number of duplicated entries:', len(duplicated_entry))\n",
    "print('\\n')\n",
    "print('Number of unique entries', len(unique_entry))"
   ]
  },
  {
   "cell_type": "markdown",
   "metadata": {},
   "source": [
    "It can be seen that there are no duplicated entries in the `ios_apps` dataset."
   ]
  },
  {
   "cell_type": "markdown",
   "metadata": {},
   "source": [
    "### Removing Non-English Apps - App Store & Android Apps"
   ]
  },
  {
   "cell_type": "markdown",
   "metadata": {},
   "source": [
    "From exploring both of the datasets (ios and Android), it can be seen that there are some app names that are not in English. This is exemplified in the following code:"
   ]
  },
  {
   "cell_type": "code",
   "execution_count": 64,
   "metadata": {
    "collapsed": false,
    "jupyter": {
     "outputs_hidden": false
    }
   },
   "outputs": [
    {
     "name": "stdout",
     "output_type": "stream",
     "text": [
      "爱奇艺PPS -《欢乐颂2》电视剧热播\n",
      "【脱出ゲーム】絶対に最後までプレイしないで 〜謎解き＆ブロックパズル〜\n",
      "中国語 AQリスニング\n",
      "لعبة تقدر تربح DZ\n"
     ]
    }
   ],
   "source": [
    "print(ios_apps[813][1])\n",
    "print(ios_apps[6731][1])\n",
    "\n",
    "print(android_clean[4412][0])\n",
    "print(android_clean[7940][0])"
   ]
  },
  {
   "cell_type": "markdown",
   "metadata": {},
   "source": [
    "As this analysis is focused on apps that are suitable for an English audience, these apps not in English should be removed. The knowledge that according to the ASCII (American Standard Code for Information Interchance) system, characters commonly used in English text have numbers corresponding to them within the range 0-127, has been employed to help with this task. The ord() function returns this number."
   ]
  },
  {
   "cell_type": "code",
   "execution_count": 65,
   "metadata": {
    "collapsed": true,
    "jupyter": {
     "outputs_hidden": true
    }
   },
   "outputs": [],
   "source": [
    "def is_english(string):\n",
    "    for character in string:\n",
    "        if ord(character)>127:\n",
    "            return False \n",
    "    return True "
   ]
  },
  {
   "cell_type": "markdown",
   "metadata": {},
   "source": [
    "The code can be checked against the following apps news to ensure that it is working:"
   ]
  },
  {
   "cell_type": "code",
   "execution_count": 66,
   "metadata": {
    "collapsed": false,
    "jupyter": {
     "outputs_hidden": false
    }
   },
   "outputs": [
    {
     "name": "stdout",
     "output_type": "stream",
     "text": [
      "True\n",
      "False\n",
      "False\n",
      "False\n"
     ]
    }
   ],
   "source": [
    "print(is_english('Instagram')) #Example 1\n",
    "print(is_english('爱奇艺PPS -《欢乐颂2》电视剧热播'))#Example 2\n",
    "print(is_english('Docs To Go™ Free Office Suite')) #Example 3\n",
    "print(is_english('Instachat 😜')) #Example 4"
   ]
  },
  {
   "cell_type": "markdown",
   "metadata": {},
   "source": [
    "From the code above, `is_english` correctly identifies Example 2 that is not in English. However, it incorrectly identifies Example 3 & 4 as not in English due to the inclusion of characters that fall outside of the ASCII system. To reduce the loss of potentially valuable data, this code should be updated with the compromise of only removing apps with a name including more characters with numbers outide the 0-127 ASCII range. Although this update is not perfect, it provides a sufficient improvement to the previous version."
   ]
  },
  {
   "cell_type": "code",
   "execution_count": 67,
   "metadata": {
    "collapsed": true,
    "jupyter": {
     "outputs_hidden": true
    }
   },
   "outputs": [],
   "source": [
    "def is_english(string):\n",
    "    characters_above_127=0\n",
    "    for character in string:\n",
    "        if ord(character)>127:\n",
    "            characters_above_127+=1\n",
    "    if characters_above_127>3:\n",
    "        return False\n",
    "    else:\n",
    "        return True "
   ]
  },
  {
   "cell_type": "code",
   "execution_count": 68,
   "metadata": {
    "collapsed": false,
    "jupyter": {
     "outputs_hidden": false
    }
   },
   "outputs": [
    {
     "name": "stdout",
     "output_type": "stream",
     "text": [
      "True\n",
      "True\n"
     ]
    }
   ],
   "source": [
    "#Retesting this updated code:\n",
    "print(is_english('Docs To Go™ Free Office Suite')) #Example 1\n",
    "print(is_english('Instachat 😜')) #Example 2"
   ]
  },
  {
   "cell_type": "markdown",
   "metadata": {},
   "source": [
    "The following code will be used to filter out the English and Non-English apps."
   ]
  },
  {
   "cell_type": "code",
   "execution_count": 69,
   "metadata": {
    "collapsed": false,
    "jupyter": {
     "outputs_hidden": false
    }
   },
   "outputs": [
    {
     "name": "stdout",
     "output_type": "stream",
     "text": [
      "English Android Apps\n",
      "['Photo Editor & Candy Camera & Grid & ScrapBook', 'ART_AND_DESIGN', '4.1', '159', '19M', '10,000+', 'Free', '0', 'Everyone', 'Art & Design', 'January 7, 2018', '1.0.0', '4.0.3 and up']\n",
      "\n",
      "\n",
      "['U Launcher Lite – FREE Live Cool Themes, Hide Apps', 'ART_AND_DESIGN', '4.7', '87510', '8.7M', '5,000,000+', 'Free', '0', 'Everyone', 'Art & Design', 'August 1, 2018', '1.2.4', '4.0.3 and up']\n",
      "\n",
      "\n",
      "['Sketch - Draw & Paint', 'ART_AND_DESIGN', '4.5', '215644', '25M', '50,000,000+', 'Free', '0', 'Teen', 'Art & Design', 'June 8, 2018', 'Varies with device', '4.2 and up']\n",
      "\n",
      "\n",
      "Number of rows: 9614\n",
      "Number of columns: 13\n",
      "\n",
      "\n",
      "English ios Apps\n",
      "['284882215', 'Facebook', '389879808', 'USD', '0.0', '2974676', '212', '3.5', '3.5', '95.0', '4+', 'Social Networking', '37', '1', '29', '1']\n",
      "\n",
      "\n",
      "['389801252', 'Instagram', '113954816', 'USD', '0.0', '2161558', '1289', '4.5', '4.0', '10.23', '12+', 'Photo & Video', '37', '0', '29', '1']\n",
      "\n",
      "\n",
      "['529479190', 'Clash of Clans', '116476928', 'USD', '0.0', '2130805', '579', '4.5', '4.5', '9.24.12', '9+', 'Games', '38', '5', '18', '1']\n",
      "\n",
      "\n",
      "Number of rows: 6183\n",
      "Number of columns: 16\n"
     ]
    }
   ],
   "source": [
    "english_ios_apps=[]\n",
    "english_android_apps=[]\n",
    "\n",
    "for app in android_clean:\n",
    "    if is_english(app[0]): #Check if app name is in english\n",
    "        english_android_apps.append(app)\n",
    "        \n",
    "for app in ios_apps:\n",
    "    if is_english(app[1]):\n",
    "        english_ios_apps.append(app)\n",
    "\n",
    "print('English Android Apps')\n",
    "explore_data(english_android_apps, 0, 3, True)\n",
    "print('\\n')\n",
    "print('English ios Apps')\n",
    "explore_data(english_ios_apps, 0, 3, True)"
   ]
  },
  {
   "cell_type": "markdown",
   "metadata": {},
   "source": [
    "It can be seen that after the implementation of the is_english code, the number of Android apps in English is 9614 and that for ios Apps is 6183."
   ]
  },
  {
   "cell_type": "markdown",
   "metadata": {},
   "source": [
    "### Isolating Free Apps - App Store & Android Apps"
   ]
  },
  {
   "cell_type": "code",
   "execution_count": 70,
   "metadata": {
    "collapsed": false,
    "jupyter": {
     "outputs_hidden": false
    }
   },
   "outputs": [
    {
     "name": "stdout",
     "output_type": "stream",
     "text": [
      "['id', 'track_name', 'size_bytes', 'currency', 'price', 'rating_count_tot', 'rating_count_ver', 'user_rating', 'user_rating_ver', 'ver', 'cont_rating', 'prime_genre', 'sup_devices.num', 'ipadSc_urls.num', 'lang.num', 'vpp_lic']\n"
     ]
    }
   ],
   "source": [
    "print(ios_apps_header)"
   ]
  },
  {
   "cell_type": "code",
   "execution_count": 71,
   "metadata": {
    "collapsed": false,
    "jupyter": {
     "outputs_hidden": false
    }
   },
   "outputs": [
    {
     "name": "stdout",
     "output_type": "stream",
     "text": [
      "['App', 'Category', 'Rating', 'Reviews', 'Size', 'Installs', 'Type', 'Price', 'Content Rating', 'Genres', 'Last Updated', 'Current Ver', 'Android Ver']\n"
     ]
    }
   ],
   "source": [
    "print(android_apps_header)"
   ]
  },
  {
   "cell_type": "markdown",
   "metadata": {},
   "source": [
    "As mentioned in the beginning, this analysis is focused on free apps on the Apple Store and the Playstore. Therefore, the free apps should be extracted from the data above. This can be done with the following code."
   ]
  },
  {
   "cell_type": "code",
   "execution_count": 72,
   "metadata": {
    "collapsed": false,
    "jupyter": {
     "outputs_hidden": false
    }
   },
   "outputs": [
    {
     "name": "stdout",
     "output_type": "stream",
     "text": [
      "8864\n",
      "3222\n"
     ]
    }
   ],
   "source": [
    "android_final = [] #This list will store the final Android apps, i.e. those that are free and are in english\n",
    "ios_final = [] #This list will store the final ios apps, i.e. those that are free and in english\n",
    "\n",
    "for app in english_android_apps:\n",
    "    price = app[7]\n",
    "    if price == '0':\n",
    "        android_final.append(app)\n",
    "        \n",
    "for app in english_ios_apps:\n",
    "    price = app[4]\n",
    "    if price == '0.0':\n",
    "        ios_final.append(app)\n",
    "        \n",
    "print(len(android_final))\n",
    "print(len(ios_final))"
   ]
  },
  {
   "cell_type": "markdown",
   "metadata": {},
   "source": [
    "As can be seen above, there are 3222 free ios apps in the ios app data and 8864 in the android data."
   ]
  },
  {
   "cell_type": "markdown",
   "metadata": {},
   "source": [
    "# Determining Most Common Apps"
   ]
  },
  {
   "cell_type": "markdown",
   "metadata": {},
   "source": [
    "As stated at the beginning, the aim of this analysis is to determine the types of apps that are most likely to attact users. This is because more users leads to more in-app ad engagements and thus higher revenue potential. The end goal is to release the app on the Playstore and App Store, therefore a three step validation strategy has been proposed to minimise risks and overhead:\n",
    "- Build an MVP version of the Android App to be added to thr Playstore\n",
    "- Develop this further upon postive responses from users\n",
    "- Given that the app has been provitable on the Playstore for 6 months, an iOS version of the App will be built and added to the App Store.\n",
    "\n",
    "A natural starting point would be to find out which genres of Apps are popular on both stores. This will be done in the next section."
   ]
  },
  {
   "cell_type": "markdown",
   "metadata": {},
   "source": [
    "## Most Common Apps By Genre- Playstore & App Store"
   ]
  },
  {
   "cell_type": "markdown",
   "metadata": {},
   "source": [
    "To find the most common apps by genre, a frequency table will be created and this will be done in two parts:\n",
    "- Create a frequency table with percentages\n",
    "- Display the percentages in descending order"
   ]
  },
  {
   "cell_type": "code",
   "execution_count": 73,
   "metadata": {
    "collapsed": true,
    "jupyter": {
     "outputs_hidden": true
    }
   },
   "outputs": [],
   "source": [
    "# Creating a function to create a frequency table\n",
    "def freq_table(dataset,index):\n",
    "    table={}\n",
    "    total_count=0\n",
    "    for row in dataset:\n",
    "        total_count+=1\n",
    "        value=row[index]\n",
    "        if value in table:\n",
    "            table[value]+=1\n",
    "        else:\n",
    "            table[value]=1\n",
    "#Storing the percentages in a new dictionary          \n",
    "    table_percentages={}\n",
    "    for key in table:\n",
    "        percentage= (table[key]/total_count)*100\n",
    "        table_percentages[key]=percentage \n",
    "    return table_percentages\n",
    "\n",
    "#Show percentages in descending order\n",
    "def display_table(dataset, index):\n",
    "    table = freq_table(dataset, index)\n",
    "    table_display = []\n",
    "    for key in table:\n",
    "        key_val_as_tuple = (table[key], key)\n",
    "        table_display.append(key_val_as_tuple)\n",
    "\n",
    "    table_sorted = sorted(table_display, reverse = True)\n",
    "    for entry in table_sorted:\n",
    "        print(entry[1], ':', entry[0])"
   ]
  },
  {
   "cell_type": "markdown",
   "metadata": {},
   "source": [
    "### Applied to iOS Data"
   ]
  },
  {
   "cell_type": "markdown",
   "metadata": {},
   "source": [
    "The `display_table` function defined above can be applied to the ios_final dataset, on the prime_genre column, in order to generate a frequency table in descending order. This will be done with the following code."
   ]
  },
  {
   "cell_type": "code",
   "execution_count": 74,
   "metadata": {
    "collapsed": false,
    "jupyter": {
     "outputs_hidden": false
    }
   },
   "outputs": [
    {
     "name": "stdout",
     "output_type": "stream",
     "text": [
      "Games : 58.16263190564867\n",
      "Entertainment : 7.883302296710118\n",
      "Photo & Video : 4.9658597144630665\n",
      "Education : 3.662321539416512\n",
      "Social Networking : 3.2898820608317814\n",
      "Shopping : 2.60707635009311\n",
      "Utilities : 2.5139664804469275\n",
      "Sports : 2.1415270018621975\n",
      "Music : 2.0484171322160147\n",
      "Health & Fitness : 2.0173805090006205\n",
      "Productivity : 1.7380509000620732\n",
      "Lifestyle : 1.5828677839851024\n",
      "News : 1.3345747982619491\n",
      "Travel : 1.2414649286157666\n",
      "Finance : 1.1173184357541899\n",
      "Weather : 0.8690254500310366\n",
      "Food & Drink : 0.8069522036002483\n",
      "Reference : 0.5586592178770949\n",
      "Business : 0.5276225946617008\n",
      "Book : 0.4345127250155183\n",
      "Navigation : 0.186219739292365\n",
      "Medical : 0.186219739292365\n",
      "Catalogs : 0.12414649286157665\n"
     ]
    }
   ],
   "source": [
    "display_table(ios_final,11)"
   ]
  },
  {
   "cell_type": "markdown",
   "metadata": {},
   "source": [
    "From the data above, it can be seen that almost 60% of the free apps, in english, on the Apple App Store are Games. This is followed up the Entertainment genre (~8%) and the Photo & Video genre (~5%). It appears that an overwhelming majority of the apps are designed for entertainment purposes with the remainder (~ 27% of free, english apps) angled towards more functional/lifestyle roles (includes the sports, utilities and shopping genres). \n",
    "\n",
    "Based on this data, it is possible to hypothesise that reason for the large number of gaming/entertainment apps designed is because they have historically been the most profitable, attracting more and more developpers to the genres. Recalling that profitability for free apps(through revenue) is based on number of users and ad engagements, this hypothesis can be validated by looking at how the number of users are distributed by genre. "
   ]
  },
  {
   "cell_type": "markdown",
   "metadata": {},
   "source": [
    "### Applied to Android Data"
   ]
  },
  {
   "cell_type": "markdown",
   "metadata": {},
   "source": [
    "The display_table function defined above can be applied to the android_final dataset, on the category and genre columns, in order to generate frequency tables in descending order. This will be done with the following code."
   ]
  },
  {
   "cell_type": "code",
   "execution_count": 75,
   "metadata": {
    "collapsed": false,
    "jupyter": {
     "outputs_hidden": false
    }
   },
   "outputs": [
    {
     "name": "stdout",
     "output_type": "stream",
     "text": [
      "Frequency Table for Category Column:\n",
      "FAMILY : 18.907942238267147\n",
      "GAME : 9.724729241877256\n",
      "TOOLS : 8.461191335740072\n",
      "BUSINESS : 4.591606498194946\n",
      "LIFESTYLE : 3.9034296028880866\n",
      "PRODUCTIVITY : 3.892148014440433\n",
      "FINANCE : 3.7003610108303246\n",
      "MEDICAL : 3.531137184115524\n",
      "SPORTS : 3.395758122743682\n",
      "PERSONALIZATION : 3.3167870036101084\n",
      "COMMUNICATION : 3.2378158844765346\n",
      "HEALTH_AND_FITNESS : 3.0798736462093865\n",
      "PHOTOGRAPHY : 2.944494584837545\n",
      "NEWS_AND_MAGAZINES : 2.7978339350180503\n",
      "SOCIAL : 2.6624548736462095\n",
      "TRAVEL_AND_LOCAL : 2.33528880866426\n",
      "SHOPPING : 2.2450361010830324\n",
      "BOOKS_AND_REFERENCE : 2.1435018050541514\n",
      "DATING : 1.861462093862816\n",
      "VIDEO_PLAYERS : 1.7937725631768955\n",
      "MAPS_AND_NAVIGATION : 1.3989169675090252\n",
      "FOOD_AND_DRINK : 1.2409747292418771\n",
      "EDUCATION : 1.1620036101083033\n",
      "ENTERTAINMENT : 0.9589350180505415\n",
      "LIBRARIES_AND_DEMO : 0.9363718411552346\n",
      "AUTO_AND_VEHICLES : 0.9250902527075812\n",
      "HOUSE_AND_HOME : 0.8235559566787004\n",
      "WEATHER : 0.8009927797833934\n",
      "EVENTS : 0.7107400722021661\n",
      "PARENTING : 0.6543321299638989\n",
      "ART_AND_DESIGN : 0.6430505415162455\n",
      "COMICS : 0.6204873646209386\n",
      "BEAUTY : 0.5979241877256317\n",
      "\n",
      "\n",
      "Frequency Table for Genre Column:\n",
      "Tools : 8.449909747292418\n",
      "Entertainment : 6.069494584837545\n",
      "Education : 5.347472924187725\n",
      "Business : 4.591606498194946\n",
      "Productivity : 3.892148014440433\n",
      "Lifestyle : 3.892148014440433\n",
      "Finance : 3.7003610108303246\n",
      "Medical : 3.531137184115524\n",
      "Sports : 3.463447653429603\n",
      "Personalization : 3.3167870036101084\n",
      "Communication : 3.2378158844765346\n",
      "Action : 3.1024368231046933\n",
      "Health & Fitness : 3.0798736462093865\n",
      "Photography : 2.944494584837545\n",
      "News & Magazines : 2.7978339350180503\n",
      "Social : 2.6624548736462095\n",
      "Travel & Local : 2.3240072202166067\n",
      "Shopping : 2.2450361010830324\n",
      "Books & Reference : 2.1435018050541514\n",
      "Simulation : 2.0419675090252705\n",
      "Dating : 1.861462093862816\n",
      "Arcade : 1.8501805054151623\n",
      "Video Players & Editors : 1.7712093862815883\n",
      "Casual : 1.7599277978339352\n",
      "Maps & Navigation : 1.3989169675090252\n",
      "Food & Drink : 1.2409747292418771\n",
      "Puzzle : 1.128158844765343\n",
      "Racing : 0.9927797833935018\n",
      "Role Playing : 0.9363718411552346\n",
      "Libraries & Demo : 0.9363718411552346\n",
      "Auto & Vehicles : 0.9250902527075812\n",
      "Strategy : 0.9138086642599278\n",
      "House & Home : 0.8235559566787004\n",
      "Weather : 0.8009927797833934\n",
      "Events : 0.7107400722021661\n",
      "Adventure : 0.6768953068592057\n",
      "Comics : 0.6092057761732852\n",
      "Beauty : 0.5979241877256317\n",
      "Art & Design : 0.5979241877256317\n",
      "Parenting : 0.4963898916967509\n",
      "Card : 0.45126353790613716\n",
      "Casino : 0.42870036101083037\n",
      "Trivia : 0.41741877256317694\n",
      "Educational;Education : 0.39485559566787\n",
      "Board : 0.3835740072202166\n",
      "Educational : 0.3722924187725632\n",
      "Education;Education : 0.33844765342960287\n",
      "Word : 0.2594765342960289\n",
      "Casual;Pretend Play : 0.236913357400722\n",
      "Music : 0.2030685920577617\n",
      "Racing;Action & Adventure : 0.16922382671480143\n",
      "Puzzle;Brain Games : 0.16922382671480143\n",
      "Entertainment;Music & Video : 0.16922382671480143\n",
      "Casual;Brain Games : 0.13537906137184114\n",
      "Casual;Action & Adventure : 0.13537906137184114\n",
      "Arcade;Action & Adventure : 0.12409747292418773\n",
      "Action;Action & Adventure : 0.10153429602888085\n",
      "Educational;Pretend Play : 0.09025270758122744\n",
      "Simulation;Action & Adventure : 0.078971119133574\n",
      "Parenting;Education : 0.078971119133574\n",
      "Entertainment;Brain Games : 0.078971119133574\n",
      "Board;Brain Games : 0.078971119133574\n",
      "Parenting;Music & Video : 0.06768953068592057\n",
      "Educational;Brain Games : 0.06768953068592057\n",
      "Casual;Creativity : 0.06768953068592057\n",
      "Art & Design;Creativity : 0.06768953068592057\n",
      "Education;Pretend Play : 0.056407942238267145\n",
      "Role Playing;Pretend Play : 0.04512635379061372\n",
      "Education;Creativity : 0.04512635379061372\n",
      "Role Playing;Action & Adventure : 0.033844765342960284\n",
      "Puzzle;Action & Adventure : 0.033844765342960284\n",
      "Entertainment;Creativity : 0.033844765342960284\n",
      "Entertainment;Action & Adventure : 0.033844765342960284\n",
      "Educational;Creativity : 0.033844765342960284\n",
      "Educational;Action & Adventure : 0.033844765342960284\n",
      "Education;Music & Video : 0.033844765342960284\n",
      "Education;Brain Games : 0.033844765342960284\n",
      "Education;Action & Adventure : 0.033844765342960284\n",
      "Adventure;Action & Adventure : 0.033844765342960284\n",
      "Video Players & Editors;Music & Video : 0.02256317689530686\n",
      "Sports;Action & Adventure : 0.02256317689530686\n",
      "Simulation;Pretend Play : 0.02256317689530686\n",
      "Puzzle;Creativity : 0.02256317689530686\n",
      "Music;Music & Video : 0.02256317689530686\n",
      "Entertainment;Pretend Play : 0.02256317689530686\n",
      "Casual;Education : 0.02256317689530686\n",
      "Board;Action & Adventure : 0.02256317689530686\n",
      "Video Players & Editors;Creativity : 0.01128158844765343\n",
      "Trivia;Education : 0.01128158844765343\n",
      "Travel & Local;Action & Adventure : 0.01128158844765343\n",
      "Tools;Education : 0.01128158844765343\n",
      "Strategy;Education : 0.01128158844765343\n",
      "Strategy;Creativity : 0.01128158844765343\n",
      "Strategy;Action & Adventure : 0.01128158844765343\n",
      "Simulation;Education : 0.01128158844765343\n",
      "Role Playing;Brain Games : 0.01128158844765343\n",
      "Racing;Pretend Play : 0.01128158844765343\n",
      "Puzzle;Education : 0.01128158844765343\n",
      "Parenting;Brain Games : 0.01128158844765343\n",
      "Music & Audio;Music & Video : 0.01128158844765343\n",
      "Lifestyle;Pretend Play : 0.01128158844765343\n",
      "Lifestyle;Education : 0.01128158844765343\n",
      "Health & Fitness;Education : 0.01128158844765343\n",
      "Health & Fitness;Action & Adventure : 0.01128158844765343\n",
      "Entertainment;Education : 0.01128158844765343\n",
      "Communication;Creativity : 0.01128158844765343\n",
      "Comics;Creativity : 0.01128158844765343\n",
      "Casual;Music & Video : 0.01128158844765343\n",
      "Card;Action & Adventure : 0.01128158844765343\n",
      "Books & Reference;Education : 0.01128158844765343\n",
      "Art & Design;Pretend Play : 0.01128158844765343\n",
      "Art & Design;Action & Adventure : 0.01128158844765343\n",
      "Arcade;Pretend Play : 0.01128158844765343\n",
      "Adventure;Education : 0.01128158844765343\n"
     ]
    }
   ],
   "source": [
    "print('Frequency Table for Category Column:')\n",
    "display_table(android_final,1) #For Category Column\n",
    "print('\\n')\n",
    "print('Frequency Table for Genre Column:')\n",
    "display_table(android_final,9) #For Genre Column"
   ]
  },
  {
   "cell_type": "markdown",
   "metadata": {},
   "source": [
    "It appears that the biggest difference between the Category and Genre Columns is that the Genre column is more finely segmented. For this analysis, the level of granularity provided by the Category column is sufficient.\n",
    "\n",
    "From the data above, for free english apps on the Playstore, the most popular by category are family apps at around 19%, followed by gaming at about 10%. There appears to be a difference from the trend seen for iOS Apps, where gaming/entertainment apps dominated. In the case of Android apps, there is no overwhelming leader and the spread of apps seems a lot more even between apps that are functional and those designed for entertainment. "
   ]
  },
  {
   "cell_type": "markdown",
   "metadata": {},
   "source": [
    "## Most Common Apps By Users- Playstore & App Store"
   ]
  },
  {
   "cell_type": "markdown",
   "metadata": {},
   "source": [
    "To validate the hypothesis above and get a better idea of the ideal profile of a free app in english, the distribution of users by genres needs to be calculated. \n",
    "\n",
    "For the Playstore data, the average installs per genre will be calcualted using the Installs column. For the App Store, there is no analogous column, however the total number of user ratings (in the rating_count_tot) will be used as a proxy."
   ]
  },
  {
   "cell_type": "markdown",
   "metadata": {},
   "source": [
    "### Use Ratings per Genre - App Store"
   ]
  },
  {
   "cell_type": "markdown",
   "metadata": {},
   "source": [
    " The average number of user ratings per app genre on the App genre will be calcualted using the following code."
   ]
  },
  {
   "cell_type": "code",
   "execution_count": 76,
   "metadata": {
    "collapsed": false,
    "jupyter": {
     "outputs_hidden": false
    }
   },
   "outputs": [
    {
     "name": "stdout",
     "output_type": "stream",
     "text": [
      "Average User Ratings in  Catalogs  is  4004.0\n",
      "Number of apps in  Catalogs : 4\n",
      "\n",
      "\n",
      "Average User Ratings in  Health & Fitness  is  23298.015384615384\n",
      "Number of apps in  Health & Fitness : 65\n",
      "\n",
      "\n",
      "Average User Ratings in  Book  is  39758.5\n",
      "Number of apps in  Book : 14\n",
      "\n",
      "\n",
      "Average User Ratings in  News  is  21248.023255813954\n",
      "Number of apps in  News : 43\n",
      "\n",
      "\n",
      "Average User Ratings in  Social Networking  is  71548.34905660378\n",
      "Number of apps in  Social Networking : 106\n",
      "\n",
      "\n",
      "Average User Ratings in  Sports  is  23008.898550724636\n",
      "Number of apps in  Sports : 69\n",
      "\n",
      "\n",
      "Average User Ratings in  Lifestyle  is  16485.764705882353\n",
      "Number of apps in  Lifestyle : 51\n",
      "\n",
      "\n",
      "Average User Ratings in  Weather  is  52279.892857142855\n",
      "Number of apps in  Weather : 28\n",
      "\n",
      "\n",
      "Average User Ratings in  Finance  is  31467.944444444445\n",
      "Number of apps in  Finance : 36\n",
      "\n",
      "\n",
      "Average User Ratings in  Photo & Video  is  28441.54375\n",
      "Number of apps in  Photo & Video : 160\n",
      "\n",
      "\n",
      "Average User Ratings in  Navigation  is  86090.33333333333\n",
      "Number of apps in  Navigation : 6\n",
      "\n",
      "\n",
      "Average User Ratings in  Food & Drink  is  33333.92307692308\n",
      "Number of apps in  Food & Drink : 26\n",
      "\n",
      "\n",
      "Average User Ratings in  Shopping  is  26919.690476190477\n",
      "Number of apps in  Shopping : 84\n",
      "\n",
      "\n",
      "Average User Ratings in  Business  is  7491.117647058823\n",
      "Number of apps in  Business : 17\n",
      "\n",
      "\n",
      "Average User Ratings in  Travel  is  28243.8\n",
      "Number of apps in  Travel : 40\n",
      "\n",
      "\n",
      "Average User Ratings in  Games  is  22788.6696905016\n",
      "Number of apps in  Games : 1874\n",
      "\n",
      "\n",
      "Average User Ratings in  Entertainment  is  14029.830708661417\n",
      "Number of apps in  Entertainment : 254\n",
      "\n",
      "\n",
      "Average User Ratings in  Utilities  is  18684.456790123455\n",
      "Number of apps in  Utilities : 81\n",
      "\n",
      "\n",
      "Average User Ratings in  Reference  is  74942.11111111111\n",
      "Number of apps in  Reference : 18\n",
      "\n",
      "\n",
      "Average User Ratings in  Medical  is  612.0\n",
      "Number of apps in  Medical : 6\n",
      "\n",
      "\n",
      "Average User Ratings in  Productivity  is  21028.410714285714\n",
      "Number of apps in  Productivity : 56\n",
      "\n",
      "\n",
      "Average User Ratings in  Education  is  7003.983050847458\n",
      "Number of apps in  Education : 118\n",
      "\n",
      "\n",
      "Average User Ratings in  Music  is  57326.530303030304\n",
      "Number of apps in  Music : 66\n",
      "\n",
      "\n"
     ]
    }
   ],
   "source": [
    "genre_ios=freq_table(ios_final,11)\n",
    "for genre in genre_ios:\n",
    "    number_of_ratings=0 #This variable will contain the total number of user ratings\n",
    "    len_genre=0 #This variable will contain the total number of apps for each genre\n",
    "    for app in ios_final:\n",
    "        genre_app=app[11]\n",
    "        if genre_app==genre:\n",
    "            number_of_ratings+=float(app[5])\n",
    "            len_genre+=1\n",
    "    avg_user_ratings=number_of_ratings/len_genre\n",
    "    print('Average User Ratings in','',genre,'','is','',avg_user_ratings)\n",
    "    print ('Number of apps in', '', genre, ':', len_genre)\n",
    "    print('\\n')"
   ]
  },
  {
   "cell_type": "markdown",
   "metadata": {},
   "source": [
    "From the data above, it appears that the most popular genre of apps, via the average number of user ratings, is the Navigation genre with about 86,100 ratings. However, with only 6 apps in this Genre, it seems that a few very popular apps are dominating and making the genre appear more popular than it really is. This can be confirmed with the following code. "
   ]
  },
  {
   "cell_type": "code",
   "execution_count": 77,
   "metadata": {
    "collapsed": false,
    "jupyter": {
     "outputs_hidden": false
    }
   },
   "outputs": [
    {
     "name": "stdout",
     "output_type": "stream",
     "text": [
      "Waze - GPS Navigation, Maps & Real-time Traffic : 345046\n",
      "Google Maps - Navigation & Transit : 154911\n",
      "Geocaching® : 12811\n",
      "CoPilot GPS – Car Navigation & Offline Maps : 3582\n",
      "ImmobilienScout24: Real Estate Search in Germany : 187\n",
      "Railway Route Search : 5\n"
     ]
    }
   ],
   "source": [
    "for apps in ios_final:\n",
    "    if apps[11]== 'Navigation':\n",
    "        print(apps[1],':',apps[5]) #Print app name and number of ratings for that app"
   ]
  },
  {
   "cell_type": "markdown",
   "metadata": {},
   "source": [
    "The above code confirms this, with Google Maps and Waze having ~97% of the total user ratings of this genre. These appear to be two huge brands in Navigation and entering the Navigation space might prove to be unprofitable due to the entry barrier created by their respective brand power.\n",
    "\n",
    "In determining which genre would be the most profitable to enter, the level of competitive rivalry is very important. In the case of many players in one genre (i.e a fragmented market), competition is very high and maybe characterised by a lot of switching by users, preventing a build up of users required to access higher ad revenues. Conversely, a genre with low competition but dominated fiercely by few players (like the Navigation) might not be profitable due to brand being an entry barrier. \n",
    "\n",
    "The ideal genre to enter seems to be characterised by moderate competition (but enough to establish a \"brand\" and attract users) but also sufficient scale/popularity to generate sufficient revenues. From this point of view, the Reference genre seems to be the most promising. "
   ]
  },
  {
   "cell_type": "code",
   "execution_count": 78,
   "metadata": {
    "collapsed": false,
    "jupyter": {
     "outputs_hidden": false
    }
   },
   "outputs": [
    {
     "name": "stdout",
     "output_type": "stream",
     "text": [
      "Bible : 985920\n",
      "Dictionary.com Dictionary & Thesaurus : 200047\n",
      "Dictionary.com Dictionary & Thesaurus for iPad : 54175\n",
      "Google Translate : 26786\n",
      "Muslim Pro: Ramadan 2017 Prayer Times, Azan, Quran : 18418\n",
      "New Furniture Mods - Pocket Wiki & Game Tools for Minecraft PC Edition : 17588\n",
      "Merriam-Webster Dictionary : 16849\n",
      "Night Sky : 12122\n",
      "City Maps for Minecraft PE - The Best Maps for Minecraft Pocket Edition (MCPE) : 8535\n",
      "LUCKY BLOCK MOD ™ for Minecraft PC Edition - The Best Pocket Wiki & Mods Installer Tools : 4693\n",
      "GUNS MODS for Minecraft PC Edition - Mods Tools : 1497\n",
      "Guides for Pokémon GO - Pokemon GO News and Cheats : 826\n",
      "WWDC : 762\n",
      "Horror Maps for Minecraft PE - Download The Scariest Maps for Minecraft Pocket Edition (MCPE) Free : 718\n",
      "VPN Express : 14\n",
      "Real Bike Traffic Rider Virtual Reality Glasses : 8\n",
      "教えて!goo : 0\n",
      "Jishokun-Japanese English Dictionary & Translator : 0\n"
     ]
    }
   ],
   "source": [
    "for apps in ios_final:\n",
    "    if apps[11]== 'Reference':\n",
    "        print(apps[1],':',apps[5])"
   ]
  },
  {
   "cell_type": "markdown",
   "metadata": {},
   "source": [
    "While Reference is dominated mainly by the Bible and Dictionary apps, it can be seen that there is a niche for creating guides/cheat codes for popular games. If this company has any popular games, this strategy of creating a cheat codes/guides could be a way of leveraging that popularity in another genre/segment. \n",
    "As games are the largest genre of apps on the App Store, a good strategy might be to create an app that functions as a library of cheats for many of these games as a way of improving the value proposition for users and limiting the level of fragmentation in the games guide sub-segment of References."
   ]
  },
  {
   "cell_type": "markdown",
   "metadata": {},
   "source": [
    "### Average Installs per Category - Playstore"
   ]
  },
  {
   "cell_type": "markdown",
   "metadata": {},
   "source": [
    "A similar analysis will be performed for the Playstore apps. This time, the the number of installations of the app is available via the Installs column and so will be used."
   ]
  },
  {
   "cell_type": "code",
   "execution_count": 79,
   "metadata": {
    "collapsed": false,
    "jupyter": {
     "outputs_hidden": false
    }
   },
   "outputs": [
    {
     "name": "stdout",
     "output_type": "stream",
     "text": [
      "1,000,000+ : 15.726534296028879\n",
      "100,000+ : 11.552346570397113\n",
      "10,000,000+ : 10.548285198555957\n",
      "10,000+ : 10.198555956678701\n",
      "1,000+ : 8.393501805054152\n",
      "100+ : 6.915613718411552\n",
      "5,000,000+ : 6.825361010830325\n",
      "500,000+ : 5.561823104693141\n",
      "50,000+ : 4.7721119133574\n",
      "5,000+ : 4.512635379061372\n",
      "10+ : 3.5424187725631766\n",
      "500+ : 3.2490974729241873\n",
      "50,000,000+ : 2.3014440433213\n",
      "100,000,000+ : 2.1322202166064983\n",
      "50+ : 1.917870036101083\n",
      "5+ : 0.78971119133574\n",
      "1+ : 0.5076714801444043\n",
      "500,000,000+ : 0.2707581227436823\n",
      "1,000,000,000+ : 0.22563176895306858\n",
      "0+ : 0.04512635379061372\n",
      "0 : 0.01128158844765343\n"
     ]
    }
   ],
   "source": [
    "display_table(android_final,5) #Produces distribution across number of installations"
   ]
  },
  {
   "cell_type": "markdown",
   "metadata": {},
   "source": [
    "From the code above, it can be seen that the installs are in open ranges and not very precise. For the sake of this analysis, it has been assumed that apps will take the exact number of installs as the category there are in. That is, all apps in the 1,000+ category will have a number of installs of 1000 and all apps in the 100,000+ category will have a number of installs of 100000 e.t.c. "
   ]
  },
  {
   "cell_type": "code",
   "execution_count": 80,
   "metadata": {
    "collapsed": false,
    "jupyter": {
     "outputs_hidden": false
    },
    "scrolled": true
   },
   "outputs": [
    {
     "name": "stdout",
     "output_type": "stream",
     "text": [
      "['App', 'Category', 'Rating', 'Reviews', 'Size', 'Installs', 'Type', 'Price', 'Content Rating', 'Genres', 'Last Updated', 'Current Ver', 'Android Ver']\n"
     ]
    }
   ],
   "source": [
    "print(android_apps_header)"
   ]
  },
  {
   "cell_type": "code",
   "execution_count": 81,
   "metadata": {
    "collapsed": false,
    "jupyter": {
     "outputs_hidden": false
    }
   },
   "outputs": [
    {
     "name": "stdout",
     "output_type": "stream",
     "text": [
      "['Sketch - Draw & Paint', 'ART_AND_DESIGN', '4.5', '215644', '25M', '50,000,000+', 'Free', '0', 'Teen', 'Art & Design', 'June 8, 2018', 'Varies with device', '4.2 and up']\n"
     ]
    }
   ],
   "source": [
    "print(android_final[2])"
   ]
  },
  {
   "cell_type": "code",
   "execution_count": 82,
   "metadata": {
    "collapsed": false,
    "jupyter": {
     "outputs_hidden": false
    }
   },
   "outputs": [
    {
     "name": "stdout",
     "output_type": "stream",
     "text": [
      "Average Installs in  TOOLS  is  10801391.298666667\n",
      "Number of apps in  TOOLS  is  750\n",
      "\n",
      "\n",
      "Average Installs in  LIFESTYLE  is  1437816.2687861272\n",
      "Number of apps in  LIFESTYLE  is  346\n",
      "\n",
      "\n",
      "Average Installs in  COMICS  is  817657.2727272727\n",
      "Number of apps in  COMICS  is  55\n",
      "\n",
      "\n",
      "Average Installs in  EVENTS  is  253542.22222222222\n",
      "Number of apps in  EVENTS  is  63\n",
      "\n",
      "\n",
      "Average Installs in  SPORTS  is  3638640.1428571427\n",
      "Number of apps in  SPORTS  is  301\n",
      "\n",
      "\n",
      "Average Installs in  SHOPPING  is  7036877.311557789\n",
      "Number of apps in  SHOPPING  is  199\n",
      "\n",
      "\n",
      "Average Installs in  BUSINESS  is  1712290.1474201474\n",
      "Number of apps in  BUSINESS  is  407\n",
      "\n",
      "\n",
      "Average Installs in  FAMILY  is  3695641.8198090694\n",
      "Number of apps in  FAMILY  is  1676\n",
      "\n",
      "\n",
      "Average Installs in  ENTERTAINMENT  is  11640705.88235294\n",
      "Number of apps in  ENTERTAINMENT  is  85\n",
      "\n",
      "\n",
      "Average Installs in  PRODUCTIVITY  is  16787331.344927534\n",
      "Number of apps in  PRODUCTIVITY  is  345\n",
      "\n",
      "\n",
      "Average Installs in  EDUCATION  is  1833495.145631068\n",
      "Number of apps in  EDUCATION  is  103\n",
      "\n",
      "\n",
      "Average Installs in  GAME  is  15588015.603248259\n",
      "Number of apps in  GAME  is  862\n",
      "\n",
      "\n",
      "Average Installs in  SOCIAL  is  23253652.127118643\n",
      "Number of apps in  SOCIAL  is  236\n",
      "\n",
      "\n",
      "Average Installs in  FOOD_AND_DRINK  is  1924897.7363636363\n",
      "Number of apps in  FOOD_AND_DRINK  is  110\n",
      "\n",
      "\n",
      "Average Installs in  AUTO_AND_VEHICLES  is  647317.8170731707\n",
      "Number of apps in  AUTO_AND_VEHICLES  is  82\n",
      "\n",
      "\n",
      "Average Installs in  MEDICAL  is  120550.61980830671\n",
      "Number of apps in  MEDICAL  is  313\n",
      "\n",
      "\n",
      "Average Installs in  VIDEO_PLAYERS  is  24727872.452830188\n",
      "Number of apps in  VIDEO_PLAYERS  is  159\n",
      "\n",
      "\n",
      "Average Installs in  DATING  is  854028.8303030303\n",
      "Number of apps in  DATING  is  165\n",
      "\n",
      "\n",
      "Average Installs in  HEALTH_AND_FITNESS  is  4188821.9853479853\n",
      "Number of apps in  HEALTH_AND_FITNESS  is  273\n",
      "\n",
      "\n",
      "Average Installs in  LIBRARIES_AND_DEMO  is  638503.734939759\n",
      "Number of apps in  LIBRARIES_AND_DEMO  is  83\n",
      "\n",
      "\n",
      "Average Installs in  PHOTOGRAPHY  is  17840110.40229885\n",
      "Number of apps in  PHOTOGRAPHY  is  261\n",
      "\n",
      "\n",
      "Average Installs in  BEAUTY  is  513151.88679245283\n",
      "Number of apps in  BEAUTY  is  53\n",
      "\n",
      "\n",
      "Average Installs in  FINANCE  is  1387692.475609756\n",
      "Number of apps in  FINANCE  is  328\n",
      "\n",
      "\n",
      "Average Installs in  BOOKS_AND_REFERENCE  is  8767811.894736841\n",
      "Number of apps in  BOOKS_AND_REFERENCE  is  190\n",
      "\n",
      "\n",
      "Average Installs in  PERSONALIZATION  is  5201482.6122448975\n",
      "Number of apps in  PERSONALIZATION  is  294\n",
      "\n",
      "\n",
      "Average Installs in  PARENTING  is  542603.6206896552\n",
      "Number of apps in  PARENTING  is  58\n",
      "\n",
      "\n",
      "Average Installs in  COMMUNICATION  is  38456119.167247385\n",
      "Number of apps in  COMMUNICATION  is  287\n",
      "\n",
      "\n",
      "Average Installs in  ART_AND_DESIGN  is  1986335.0877192982\n",
      "Number of apps in  ART_AND_DESIGN  is  57\n",
      "\n",
      "\n",
      "Average Installs in  MAPS_AND_NAVIGATION  is  4056941.7741935486\n",
      "Number of apps in  MAPS_AND_NAVIGATION  is  124\n",
      "\n",
      "\n",
      "Average Installs in  HOUSE_AND_HOME  is  1331540.5616438356\n",
      "Number of apps in  HOUSE_AND_HOME  is  73\n",
      "\n",
      "\n",
      "Average Installs in  NEWS_AND_MAGAZINES  is  9549178.467741935\n",
      "Number of apps in  NEWS_AND_MAGAZINES  is  248\n",
      "\n",
      "\n",
      "Average Installs in  TRAVEL_AND_LOCAL  is  13984077.710144928\n",
      "Number of apps in  TRAVEL_AND_LOCAL  is  207\n",
      "\n",
      "\n",
      "Average Installs in  WEATHER  is  5074486.197183099\n",
      "Number of apps in  WEATHER  is  71\n",
      "\n",
      "\n"
     ]
    }
   ],
   "source": [
    "category_android=freq_table(android_final,1) #This dictionary stores the unique categories\n",
    "for category in category_android:\n",
    "    total_category_installs=0 #This variable will store the total number of installs for each category\n",
    "    len_category=0 #This variable will store the number of apps in each category\n",
    "    for app in android_final:\n",
    "        category_app=app[1]\n",
    "        if category_app==category:\n",
    "            n_installs=app[5]\n",
    "            n_installs=n_installs.replace('+','') #Remove + in string\n",
    "            n_installs=n_installs.replace(',','') #Remove , in string \n",
    "            total_category_installs+=float(n_installs) #Save as float so it can be used in addition\n",
    "            len_category+=1\n",
    "    average_installs= total_category_installs/len_category\n",
    "    print('Average Installs in','',category, '','is','',average_installs)\n",
    "    print('Number of apps in','',category,'','is','',len_category)\n",
    "    print('\\n')"
   ]
  },
  {
   "cell_type": "markdown",
   "metadata": {},
   "source": [
    "From the above, it can be seen that the Category with the largest number of installs is Communication with about 38.5m downloads and there are 287 apps in this category. The following code will explore the apps in the Commucations catgory more."
   ]
  },
  {
   "cell_type": "code",
   "execution_count": 83,
   "metadata": {
    "collapsed": false,
    "jupyter": {
     "outputs_hidden": false
    }
   },
   "outputs": [
    {
     "name": "stdout",
     "output_type": "stream",
     "text": [
      "WhatsApp Messenger  has  1,000,000,000+\n",
      "Messenger for SMS  has  10,000,000+\n",
      "My Tele2  has  5,000,000+\n",
      "imo beta free calls and text  has  100,000,000+\n",
      "Contacts  has  50,000,000+\n",
      "Call Free – Free Call  has  5,000,000+\n",
      "Web Browser & Explorer  has  5,000,000+\n",
      "Browser 4G  has  10,000,000+\n",
      "MegaFon Dashboard  has  10,000,000+\n",
      "ZenUI Dialer & Contacts  has  10,000,000+\n",
      "Cricket Visual Voicemail  has  10,000,000+\n",
      "TracFone My Account  has  1,000,000+\n",
      "Xperia Link™  has  10,000,000+\n",
      "TouchPal Keyboard - Fun Emoji & Android Keyboard  has  10,000,000+\n",
      "Skype Lite - Free Video Call & Chat  has  5,000,000+\n",
      "My magenta  has  1,000,000+\n",
      "Android Messages  has  100,000,000+\n",
      "Google Duo - High Quality Video Calls  has  500,000,000+\n",
      "Seznam.cz  has  1,000,000+\n",
      "Antillean Gold Telegram (original version)  has  100,000+\n",
      "AT&T Visual Voicemail  has  10,000,000+\n",
      "GMX Mail  has  10,000,000+\n",
      "Omlet Chat  has  10,000,000+\n",
      "My Vodacom SA  has  5,000,000+\n",
      "Microsoft Edge  has  5,000,000+\n",
      "Messenger – Text and Video Chat for Free  has  1,000,000,000+\n",
      "imo free video calls and chat  has  500,000,000+\n",
      "Calls & Text by Mo+  has  5,000,000+\n",
      "free video calls and chat  has  50,000,000+\n",
      "Skype - free IM & video calls  has  1,000,000,000+\n",
      "Who  has  100,000,000+\n",
      "GO SMS Pro - Messenger, Free Themes, Emoji  has  100,000,000+\n",
      "Messaging+ SMS, MMS Free  has  1,000,000+\n",
      "chomp SMS  has  10,000,000+\n",
      "Glide - Video Chat Messenger  has  10,000,000+\n",
      "Text SMS  has  10,000,000+\n",
      "Talkray - Free Calls & Texts  has  10,000,000+\n",
      "LINE: Free Calls & Messages  has  500,000,000+\n",
      "GroupMe  has  10,000,000+\n",
      "mysms SMS Text Messaging Sync  has  1,000,000+\n",
      "2ndLine - Second Phone Number  has  1,000,000+\n",
      "Google Chrome: Fast & Secure  has  1,000,000,000+\n",
      "Firefox Browser fast & private  has  100,000,000+\n",
      "Ninesky Browser  has  1,000,000+\n",
      "Dolphin Browser - Fast, Private & Adblock🐬  has  50,000,000+\n",
      "UC Browser - Fast Download Private & Secure  has  500,000,000+\n",
      "Ghostery Privacy Browser  has  1,000,000+\n",
      "InBrowser - Incognito Browsing  has  1,000,000+\n",
      "Lightning Web Browser  has  500,000+\n",
      "Web Browser  has  500,000+\n",
      "Contacts+  has  10,000,000+\n",
      "ExDialer - Dialer & Contacts  has  10,000,000+\n",
      "PHONE for Google Voice & GTalk  has  1,000,000+\n",
      "Safest Call Blocker  has  1,000,000+\n",
      "Full Screen Caller ID  has  5,000,000+\n",
      "Hiya - Caller ID & Block  has  10,000,000+\n",
      "Mr. Number-Block calls & spam  has  10,000,000+\n",
      "Should I Answer?  has  1,000,000+\n",
      "RocketDial Dialer & Contacts  has  1,000,000+\n",
      "CIA - Caller ID & Call Blocker  has  5,000,000+\n",
      "Calls Blacklist - Call Blocker  has  10,000,000+\n",
      "Call Control - Call Blocker  has  5,000,000+\n",
      "True Contact - Real Caller ID  has  1,000,000+\n",
      "Video Caller Id  has  1,000,000+\n",
      "Sync.ME – Caller ID & Block  has  5,000,000+\n",
      "Burner - Free Phone Number  has  1,000,000+\n",
      "Caller ID +  has  1,000,000+\n",
      "Gmail  has  1,000,000,000+\n",
      "K-9 Mail  has  5,000,000+\n",
      "myMail – Email for Hotmail, Gmail and Outlook Mail  has  10,000,000+\n",
      "Email TypeApp - Mail App  has  1,000,000+\n",
      "All Email Providers  has  1,000,000+\n",
      "Newton Mail - Email App for Gmail, Outlook, IMAP  has  1,000,000+\n",
      "GO Notifier  has  10,000,000+\n",
      "Mail.Ru - Email App  has  50,000,000+\n",
      "Mail1Click - Secure Mail  has  10,000+\n",
      "Daum Mail - Next Mail  has  5,000,000+\n",
      "mail.com mail  has  1,000,000+\n",
      "SolMail - All-in-One email app  has  500,000+\n",
      "Hangouts  has  1,000,000,000+\n",
      "Vonage Mobile® Call Video Text  has  1,000,000+\n",
      "JusTalk - Free Video Calls and Fun Video Chat  has  5,000,000+\n",
      "Azar  has  50,000,000+\n",
      "LokLok: Draw on a Lock Screen  has  500,000+\n",
      "Discord - Chat for Gamers  has  10,000,000+\n",
      "Messenger Lite: Free Calls & Messages  has  100,000,000+\n",
      "AntennaPict β  has  1,000,000+\n",
      "Talkatone: Free Texts, Calls & Phone Number  has  10,000,000+\n",
      "Kik  has  100,000,000+\n",
      "K-@ Mail - Email App  has  100,000+\n",
      "KakaoTalk: Free Calls & Text  has  100,000,000+\n",
      "K-9 Material (unofficial)  has  5,000+\n",
      "M star Dialer  has  100,000+\n",
      "Free WiFi Connect  has  10,000,000+\n",
      "m:go BiH  has  10,000+\n",
      "N-Com Wizard  has  50,000+\n",
      "Opera Mini - fast web browser  has  100,000,000+\n",
      "Opera Browser: Fast and Secure  has  100,000,000+\n",
      "Opera Mini browser beta  has  10,000,000+\n",
      "Psiphon Pro - The Internet Freedom VPN  has  10,000,000+\n",
      "ICQ — Video Calls & Chat Messenger  has  10,000,000+\n",
      "Telegram  has  100,000,000+\n",
      "AT&T Messages for Tablet  has  1,000,000+\n",
      "T-Mobile DIGITS  has  100,000+\n",
      "Truecaller: Caller ID, SMS spam blocking & Dialer  has  100,000,000+\n",
      "Portable Wi-Fi hotspot  has  10,000,000+\n",
      "AT&T Call Protect  has  5,000,000+\n",
      "U - Webinars, Meetings & Messenger  has  500,000+\n",
      "UC Browser Mini -Tiny Fast Private & Secure  has  100,000,000+\n",
      "/u/app  has  10,000+\n",
      "[verify-U] VideoIdent  has  10,000+\n",
      "Viber Messenger  has  500,000,000+\n",
      "WeChat  has  100,000,000+\n",
      "WhatsApp Business  has  10,000,000+\n",
      "WhatsCall Free Global Phone Call App & Cheap Calls  has  10,000,000+\n",
      "X Browser  has  50,000+\n",
      "Yahoo Mail – Stay Organized  has  100,000,000+\n",
      "Free Adblocker Browser - Adblock & Popup Blocker  has  10,000,000+\n",
      "Adblock Browser for Android  has  10,000,000+\n",
      "CM Browser - Ad Blocker , Fast Download , Privacy  has  50,000,000+\n",
      "Adblock Plus for Samsung Internet - Browse safe.  has  1,000,000+\n",
      "Ad Blocker Turbo - Adblocker Browser  has  10,000+\n",
      "Brave Browser: Fast AdBlocker  has  5,000,000+\n",
      "AG Contacts, Lite edition  has  5,000+\n",
      "Oklahoma Ag Co-op Council  has  10+\n",
      "Bee'ah Employee App  has  100+\n",
      "tournaments and more.aj.2  has  100+\n",
      "Aj.Petra  has  100+\n",
      "AK Phone  has  5,000+\n",
      "PlacarTv Futebol Ao Vivo  has  100,000+\n",
      "WiFi Access Point (hotspot)  has  100,000+\n",
      "Access Point Names  has  10,000+\n",
      "Puffin Web Browser  has  10,000,000+\n",
      "ClanHQ  has  10,000+\n",
      "Ear Agent: Super Hearing  has  5,000,000+\n",
      "Google Voice  has  10,000,000+\n",
      "Google Allo  has  10,000,000+\n",
      "AU Call Blocker - Block Unwanted Calls Texts 2018  has  1,000+\n",
      "Baby Monitor AV  has  100,000+\n",
      "AV Phone  has  1,000+\n",
      "AW - free video calls and chat  has  1,000,000+\n",
      "Katalogen.ax  has  100+\n",
      "AZ Browser. Private & Download  has  100,000+\n",
      "BA SALES  has  1+\n",
      "BD Data Plan (3G & 4G)  has  500,000+\n",
      "BD Internet Packages (Updated)  has  50,000+\n",
      "BD Dialer  has  10,000+\n",
      "BD Live Call  has  5,000+\n",
      "Best Browser BD social networking  has  10+\n",
      "Traffic signs BD  has  500+\n",
      "BF Browser by Betfilter - Stop Gambling Today!  has  10,000+\n",
      "My BF App  has  50,000+\n",
      "BH Mail  has  1,000+\n",
      "Zalo – Video Call  has  50,000,000+\n",
      "BJ - Confidential  has  10+\n",
      "BK Chat  has  1,000+\n",
      "Of the wall Arapaho bk  has  5+\n",
      "AC-BL  has  50+\n",
      "BBM - Free Calls & Messages  has  100,000,000+\n",
      "DMR BrandMeister Tool  has  10,000+\n",
      "BBMoji - Your personalized BBM Stickers  has  1,000,000+\n",
      "BN MALLORCA Radio  has  1,000+\n",
      "BQ Partners  has  1,000+\n",
      "BS-Mobile  has  50+\n",
      "ATC Unico BS  has  500+\n",
      "BT One Voice mobile access  has  5,000+\n",
      "BT Messenger  has  50,000+\n",
      "BT One Phone Mobile App  has  10,000+\n",
      "SW-100.tch by Callstel  has  1,000,000+\n",
      "BT MeetMe with Dolby Voice  has  100,000+\n",
      "Bluetooth Auto Connect  has  5,000,000+\n",
      "AudioBT: BT audio GPS/SMS/Text  has  50,000+\n",
      "BV  has  100+\n",
      "Feel Performer  has  10,000+\n",
      "Tiny Call Confirm  has  1,000,000+\n",
      "CB Radio Chat - for friends!  has  1,000,000+\n",
      "CB On Mobile  has  100,000+\n",
      "Virtual Walkie Talkie  has  1,000,000+\n",
      "Channel 19  has  100,000+\n",
      "Cb browser  has  50+\n",
      "CF Chat: Connecting Friends  has  100+\n",
      "retteMi.ch  has  5,000+\n",
      "Chrome Dev  has  5,000,000+\n",
      "CJ Browser - Fast & Private  has  100+\n",
      "CJ DVD Rentals  has  100+\n",
      "CK Call NEW  has  10+\n",
      "CM Transfer - Share any files with friends nearby  has  5,000,000+\n",
      "mail.co.uk Mail  has  5,000+\n",
      "ClanPlay: Community and Tools for Gamers  has  1,000,000+\n",
      "CQ-Mobile  has  1,000+\n",
      "CQ-Alert  has  500+\n",
      "QRZ Assistant  has  100,000+\n",
      "Pocket Prefix Plus  has  10,000+\n",
      "Ham Radio Prefixes  has  10,000+\n",
      "CS Customizer  has  1,000+\n",
      "CS Browser | #1 & BEST BROWSER  has  1,000+\n",
      "CS Browser Beta  has  5,000+\n",
      "My Vodafone (GR)  has  1,000,000+\n",
      "IZ2UUF Morse Koch CW  has  50,000+\n",
      "C W Browser  has  100+\n",
      "CW Bluetooth SPP  has  100+\n",
      "CW BLE Peripheral Simulator  has  500+\n",
      "Morse Code Reader  has  100,000+\n",
      "Learn Morse Code - G0HYN Learn Morse  has  5,000+\n",
      "Ring  has  10,000+\n",
      "Hyundai CX Conference  has  50+\n",
      "Cy Messenger  has  100+\n",
      "Amadeus GR & CY  has  100+\n",
      "Hlášenírozhlasu.cz  has  10+\n",
      "SMS Sender - sluzba.cz  has  1,000+\n",
      "WEB.DE Mail  has  10,000,000+\n",
      "Your Freedom VPN Client  has  5,000,000+\n",
      "CallApp: Caller ID, Blocker & Phone Call Recorder  has  10,000,000+\n",
      "Rádio Sol Nascente DF  has  500+\n",
      "DG Card  has  100+\n",
      "Whoscall - Caller ID & Block  has  10,000,000+\n",
      "DK Browser  has  10+\n",
      "cluster.dk  has  1,000+\n",
      "DK TEL Dialer  has  50+\n",
      "DM for WhatsApp  has  5,000+\n",
      "DM Talk New  has  5,000+\n",
      "DM - The Offical Messaging App  has  10+\n",
      "DM Tracker  has  1,000+\n",
      "Call Blocker & Blacklist  has  1,000+\n",
      "ReadyOp DT  has  1,000+\n",
      "DU Browser—Browse fast & fun  has  10,000,000+\n",
      "Caller ID & Call Block - DU Caller  has  5,000,000+\n",
      "BlueDV AMBE  has  1,000+\n",
      "DW Contacts & Phone & Dialer  has  1,000,000+\n",
      "Deaf World DW  has  10,000+\n",
      "Ham DX Cluster & Spots Finder  has  5,000+\n",
      "Mircules DX Cluster Lite  has  5,000+\n",
      "3G DZ Configuration  has  50,000+\n",
      "chat dz  has  100+\n",
      "love sms good morning  has  5,000+\n",
      "Goodbox - Mega App  has  100,000+\n",
      "Call Blocker - Blacklist, SMS Blocker  has  1,000,000+\n",
      "[EF]ShoutBox  has  100+\n",
      "Eg Call  has  10,000+\n",
      "ei  has  10+\n",
      "EJ messenger  has  10+\n",
      "Ek IRA  has  10+\n",
      "Orfox: Tor Browser for Android  has  10,000,000+\n",
      "EO Mumbai  has  10+\n",
      "EP RSS Reader  has  100+\n",
      "Voxer Walkie Talkie Messenger  has  10,000,000+\n",
      "ES-1  has  500+\n",
      "Hangouts Dialer - Call Phones  has  10,000,000+\n",
      "EU Council  has  1,000+\n",
      "Council Voting Calculator  has  5,000+\n",
      "Have your say on Europe  has  500+\n",
      "Programi podrške EU  has  100+\n",
      "Inbox.eu  has  10,000+\n",
      "Web Browser for Android  has  1,000,000+\n",
      "Everbridge  has  100,000+\n",
      "Best Auto Call Recorder Free  has  500+\n",
      "EZ Wifi Notification  has  10,000+\n",
      "Test Server SMS FA  has  5+\n",
      "Lite for Facebook Messenger  has  1,000,000+\n",
      "FC Browser - Focus Privacy Browser  has  1,000+\n",
      "EHiN-FH conferenceapp  has  100+\n",
      "Carpooling FH Hagenberg  has  100+\n",
      "Wi-Fi Auto-connect  has  1,000,000+\n",
      "Talkie - Wi-Fi Calling, Chats, File Sharing  has  500,000+\n",
      "WeFi - Free Fast WiFi Connect & Find Wi-Fi Map  has  1,000,000+\n",
      "Sat-Fi  has  5,000+\n",
      "Portable Wi-Fi hotspot Free  has  100,000+\n",
      "TownWiFi | Wi-Fi Everywhere  has  500,000+\n",
      "Jazz Wi-Fi  has  10,000+\n",
      "Sat-Fi Voice  has  1,000+\n",
      "Free Wi-fi HotspoT  has  50,000+\n",
      "FN Web Radio  has  10+\n",
      "FNH Payment Info  has  10+\n",
      "MARKET FO  has  100+\n",
      "FO OP St-Nazaire  has  100+\n",
      "FO SODEXO  has  100+\n",
      "FO RCBT  has  100+\n",
      "FO Interim  has  100+\n",
      "FO PSA Sept-Fons  has  100+\n",
      "FO AIRBUS TLSE  has  1,000+\n",
      "FO STELIA Méaulte  has  100+\n",
      "FO AIRBUS Nantes  has  100+\n",
      "Firefox Focus: The privacy browser  has  1,000,000+\n",
      "FP Connect  has  100+\n",
      "FreedomPop Messaging Phone/SIM  has  500,000+\n",
      "FP Live  has  10+\n",
      "HipChat - beta version  has  50,000+\n"
     ]
    }
   ],
   "source": [
    "for app in android_final:\n",
    "    if app[1]=='COMMUNICATION':\n",
    "        name=app[0]\n",
    "        installs=app[5]\n",
    "        print(name,'', 'has','', installs)"
   ]
  },
  {
   "cell_type": "markdown",
   "metadata": {},
   "source": [
    "It appears that there are some giants in the communication genre making the genre appear a lot more popular. For example, Skype,Whatsapp Messanger, Google Duo and have 1,000,000,000+, 1,000,000,000+ and 500,000,00+ downloads respectively. By removing some of these apps skewing the average installs, a fairer assessment can be made."
   ]
  },
  {
   "cell_type": "code",
   "execution_count": 84,
   "metadata": {
    "collapsed": false,
    "jupyter": {
     "outputs_hidden": false
    }
   },
   "outputs": [
    {
     "name": "stdout",
     "output_type": "stream",
     "text": [
      "3603485.3884615386\n"
     ]
    }
   ],
   "source": [
    "#Remove apps with over 100,000,000+ installs in Communication\n",
    "communication_updated=[] #Store apps with <100m installs\n",
    "for app in android_final:\n",
    "    n_installs = app[5]\n",
    "    n_installs = n_installs.replace(',', '')\n",
    "    n_installs = n_installs.replace('+', '')\n",
    "    if (app[1] == 'COMMUNICATION') and (float(n_installs) < 100000000):\n",
    "        communication_updated.append(float(n_installs))\n",
    "new_communication_avg_installs=sum(communication_updated)/len(communication_updated)\n",
    "print(new_communication_avg_installs)"
   ]
  },
  {
   "cell_type": "markdown",
   "metadata": {},
   "source": [
    "It can be seen that the new communications average installs is about 3.6m, down from 38.5m originally calculated."
   ]
  },
  {
   "cell_type": "markdown",
   "metadata": {},
   "source": [
    "As the app release strategy is to release the app on the Playstore and the App Store, an interesting category to explore would be the Books and References category. From the analysis done for the iOS apps, an app functioning as a library of guides and cheats for games was recommended.\n",
    "\n",
    "The books and reference category has about 8.8m installs and 190 apps."
   ]
  },
  {
   "cell_type": "code",
   "execution_count": 85,
   "metadata": {
    "collapsed": false,
    "jupyter": {
     "outputs_hidden": false
    }
   },
   "outputs": [
    {
     "name": "stdout",
     "output_type": "stream",
     "text": [
      "E-Book Read - Read Book for free  has  50,000+\n",
      "Download free book with green book  has  100,000+\n",
      "Wikipedia  has  10,000,000+\n",
      "Cool Reader  has  10,000,000+\n",
      "Free Panda Radio Music  has  100,000+\n",
      "Book store  has  1,000,000+\n",
      "FBReader: Favorite Book Reader  has  10,000,000+\n",
      "English Grammar Complete Handbook  has  500,000+\n",
      "Free Books - Spirit Fanfiction and Stories  has  1,000,000+\n",
      "Google Play Books  has  1,000,000,000+\n",
      "AlReader -any text book reader  has  5,000,000+\n",
      "Offline English Dictionary  has  100,000+\n",
      "Offline: English to Tagalog Dictionary  has  500,000+\n",
      "FamilySearch Tree  has  1,000,000+\n",
      "Cloud of Books  has  1,000,000+\n",
      "Recipes of Prophetic Medicine for free  has  500,000+\n",
      "ReadEra – free ebook reader  has  1,000,000+\n",
      "Anonymous caller detection  has  10,000+\n",
      "Ebook Reader  has  5,000,000+\n",
      "Litnet - E-books  has  100,000+\n",
      "Read books online  has  5,000,000+\n",
      "English to Urdu Dictionary  has  500,000+\n",
      "eBoox: book reader fb2 epub zip  has  1,000,000+\n",
      "English Persian Dictionary  has  500,000+\n",
      "Flybook  has  500,000+\n",
      "All Maths Formulas  has  1,000,000+\n",
      "Ancestry  has  5,000,000+\n",
      "HTC Help  has  10,000,000+\n",
      "English translation from Bengali  has  100,000+\n",
      "Pdf Book Download - Read Pdf Book  has  100,000+\n",
      "Free Book Reader  has  100,000+\n",
      "eBoox new: Reader for fb2 epub zip books  has  50,000+\n",
      "Only 30 days in English, the guideline is guaranteed  has  500,000+\n",
      "Moon+ Reader  has  10,000,000+\n",
      "SH-02J Owner's Manual (Android 8.0)  has  50,000+\n",
      "English-Myanmar Dictionary  has  1,000,000+\n",
      "Golden Dictionary (EN-AR)  has  1,000,000+\n",
      "All Language Translator Free  has  1,000,000+\n",
      "Azpen eReader  has  500,000+\n",
      "URBANO V 02 instruction manual  has  100,000+\n",
      "Bible  has  100,000,000+\n",
      "C Programs and Reference  has  50,000+\n",
      "C Offline Tutorial  has  1,000+\n",
      "C Programs Handbook  has  50,000+\n",
      "Amazon Kindle  has  100,000,000+\n",
      "Aab e Hayat Full Novel  has  100,000+\n",
      "Aldiko Book Reader  has  10,000,000+\n",
      "Google I/O 2018  has  500,000+\n",
      "R Language Reference Guide  has  10,000+\n",
      "Learn R Programming Full  has  5,000+\n",
      "R Programing Offline Tutorial  has  1,000+\n",
      "Guide for R Programming  has  5+\n",
      "Learn R Programming  has  10+\n",
      "R Quick Reference Big Data  has  1,000+\n",
      "V Made  has  100,000+\n",
      "Wattpad 📖 Free Books  has  100,000,000+\n",
      "Dictionary - WordWeb  has  5,000,000+\n",
      "Guide (for X-MEN)  has  100,000+\n",
      "AC Air condition Troubleshoot,Repair,Maintenance  has  5,000+\n",
      "AE Bulletins  has  1,000+\n",
      "Ae Allah na Dai (Rasa)  has  10,000+\n",
      "50000 Free eBooks & Free AudioBooks  has  5,000,000+\n",
      "Ag PhD Field Guide  has  10,000+\n",
      "Ag PhD Deficiencies  has  10,000+\n",
      "Ag PhD Planting Population Calculator  has  1,000+\n",
      "Ag PhD Soybean Diseases  has  1,000+\n",
      "Fertilizer Removal By Crop  has  50,000+\n",
      "A-J Media Vault  has  50+\n",
      "Al-Quran (Free)  has  10,000,000+\n",
      "Al Quran (Tafsir & by Word)  has  500,000+\n",
      "Al Quran Indonesia  has  10,000,000+\n",
      "Al'Quran Bahasa Indonesia  has  10,000,000+\n",
      "Al Quran Al karim  has  1,000,000+\n",
      "Al-Muhaffiz  has  50,000+\n",
      "Al Quran : EAlim - Translations & MP3 Offline  has  5,000,000+\n",
      "Al-Quran 30 Juz free copies  has  500,000+\n",
      "Koran Read &MP3 30 Juz Offline  has  1,000,000+\n",
      "Hafizi Quran 15 lines per page  has  1,000,000+\n",
      "Quran for Android  has  10,000,000+\n",
      "Surah Al-Waqiah  has  100,000+\n",
      "Hisnul Al Muslim - Hisn Invocations & Adhkaar  has  100,000+\n",
      "Satellite AR  has  1,000,000+\n",
      "Audiobooks from Audible  has  100,000,000+\n",
      "Kinot & Eichah for Tisha B'Av  has  10,000+\n",
      "AW Tozer Devotionals - Daily  has  5,000+\n",
      "Tozer Devotional -Series 1  has  1,000+\n",
      "The Pursuit of God  has  1,000+\n",
      "AY Sing  has  5,000+\n",
      "Ay Hasnain k Nana Milad Naat  has  10,000+\n",
      "Ay Mohabbat Teri Khatir Novel  has  10,000+\n",
      "Arizona Statutes, ARS (AZ Law)  has  1,000+\n",
      "Oxford A-Z of English Usage  has  1,000,000+\n",
      "BD Fishpedia  has  1,000+\n",
      "BD All Sim Offer  has  10,000+\n",
      "Youboox - Livres, BD et magazines  has  500,000+\n",
      "B&H Kids AR  has  10,000+\n",
      "B y H Niños ES  has  5,000+\n",
      "Dictionary.com: Find Definitions for English Words  has  10,000,000+\n",
      "English Dictionary - Offline  has  10,000,000+\n",
      "Bible KJV  has  5,000,000+\n",
      "Borneo Bible, BM Bible  has  10,000+\n",
      "MOD Black for BM  has  100+\n",
      "BM Box  has  1,000+\n",
      "Anime Mod for BM  has  100+\n",
      "NOOK: Read eBooks & Magazines  has  10,000,000+\n",
      "NOOK Audiobooks  has  500,000+\n",
      "NOOK App for NOOK Devices  has  500,000+\n",
      "Browsery by Barnes & Noble  has  5,000+\n",
      "bp e-store  has  1,000+\n",
      "Brilliant Quotes: Life, Love, Family & Motivation  has  1,000,000+\n",
      "BR Ambedkar Biography & Quotes  has  10,000+\n",
      "BU Alsace  has  100+\n",
      "Catholic La Bu Zo Kam  has  500+\n",
      "Khrifa Hla Bu (Solfa)  has  10+\n",
      "Kristian Hla Bu  has  10,000+\n",
      "SA HLA BU  has  1,000+\n",
      "Learn SAP BW  has  500+\n",
      "Learn SAP BW on HANA  has  500+\n",
      "CA Laws 2018 (California Laws and Codes)  has  5,000+\n",
      "Bootable Methods(USB-CD-DVD)  has  10,000+\n",
      "cloudLibrary  has  100,000+\n",
      "SDA Collegiate Quarterly  has  500+\n",
      "Sabbath School  has  100,000+\n",
      "Cypress College Library  has  100+\n",
      "Stats Royale for Clash Royale  has  1,000,000+\n",
      "GATE 21 years CS Papers(2011-2018 Solved)  has  50+\n",
      "Learn CT Scan Of Head  has  5,000+\n",
      "Easy Cv maker 2018  has  10,000+\n",
      "How to Write CV  has  100,000+\n",
      "CW Nuclear  has  1,000+\n",
      "CY Spray nozzle  has  10+\n",
      "BibleRead En Cy Zh Yue  has  5+\n",
      "CZ-Help  has  5+\n",
      "Modlitební knížka CZ  has  500+\n",
      "Guide for DB Xenoverse  has  10,000+\n",
      "Guide for DB Xenoverse 2  has  10,000+\n",
      "Guide for IMS DB  has  10+\n",
      "DC HSEMA  has  5,000+\n",
      "DC Public Library  has  1,000+\n",
      "Painting Lulu DC Super Friends  has  1,000+\n",
      "Dictionary  has  10,000,000+\n",
      "Fix Error Google Playstore  has  1,000+\n",
      "D. H. Lawrence Poems FREE  has  1,000+\n",
      "Bilingual Dictionary Audio App  has  5,000+\n",
      "DM Screen  has  10,000+\n",
      "wikiHow: how to do anything  has  1,000,000+\n",
      "Dr. Doug's Tips  has  1,000+\n",
      "Bible du Semeur-BDS (French)  has  50,000+\n",
      "La citadelle du musulman  has  50,000+\n",
      "DV 2019 Entry Guide  has  10,000+\n",
      "DV 2019 - EDV Photo & Form  has  50,000+\n",
      "DV 2018 Winners Guide  has  1,000+\n",
      "EB Annual Meetings  has  1,000+\n",
      "EC - AP & Telangana  has  5,000+\n",
      "TN Patta Citta & EC  has  10,000+\n",
      "AP Stamps and Registration  has  10,000+\n",
      "CompactiMa EC pH Calibration  has  100+\n",
      "EGW Writings 2  has  100,000+\n",
      "EGW Writings  has  1,000,000+\n",
      "Bible with EGW Comments  has  100,000+\n",
      "My Little Pony AR Guide  has  1,000,000+\n",
      "SDA Sabbath School Quarterly  has  500,000+\n",
      "Duaa Ek Ibaadat  has  5,000+\n",
      "Spanish English Translator  has  10,000,000+\n",
      "Dictionary - Merriam-Webster  has  10,000,000+\n",
      "JW Library  has  10,000,000+\n",
      "Oxford Dictionary of English : Free  has  10,000,000+\n",
      "English Hindi Dictionary  has  10,000,000+\n",
      "English to Hindi Dictionary  has  5,000,000+\n",
      "EP Research Service  has  1,000+\n",
      "Hymnes et Louanges  has  100,000+\n",
      "EU Charter  has  1,000+\n",
      "EU Data Protection  has  1,000+\n",
      "EU IP Codes  has  100+\n",
      "EW PDF  has  5+\n",
      "BakaReader EX  has  100,000+\n",
      "EZ Quran  has  50,000+\n",
      "FA Part 1 & 2 Past Papers Solved Free – Offline  has  5,000+\n",
      "La Fe de Jesus  has  1,000+\n",
      "La Fe de Jesús  has  500+\n",
      "Le Fe de Jesus  has  500+\n",
      "Florida - Pocket Brainbook  has  1,000+\n",
      "Florida Statutes (FL Code)  has  1,000+\n",
      "English To Shona Dictionary  has  10,000+\n",
      "Greek Bible FP (Audio)  has  1,000+\n",
      "Golden Dictionary (FR-AR)  has  500,000+\n",
      "Fanfic-FR  has  5,000+\n",
      "Bulgarian French Dictionary Fr  has  10,000+\n",
      "Chemin (fr)  has  1,000+\n",
      "The SCP Foundation DB fr nn5n  has  1,000+\n"
     ]
    }
   ],
   "source": [
    "#Explore the Books and References Category more\n",
    "for app in android_final:\n",
    "    if app[1]=='BOOKS_AND_REFERENCE':\n",
    "        name=app[0]\n",
    "        installs=app[5]\n",
    "        print(name,'', 'has','', installs)"
   ]
  },
  {
   "cell_type": "markdown",
   "metadata": {},
   "source": [
    "There are also giants in this category, such as the Bible app and Amazon Kindle with 100,000,000+ downloads each. These apps can be removed using the threshold of 100,000,000+ downloads and a new average can be calculated."
   ]
  },
  {
   "cell_type": "code",
   "execution_count": 88,
   "metadata": {
    "collapsed": false,
    "jupyter": {
     "outputs_hidden": false
    }
   },
   "outputs": [
    {
     "name": "stdout",
     "output_type": "stream",
     "text": [
      "1437212.2162162163\n"
     ]
    }
   ],
   "source": [
    "#Remove apps with over 100,000,000+ installs in Books and Reference\n",
    "books_and_reference_updated=[] #Store apps with <100m installs\n",
    "for app in android_final:\n",
    "    n_installs = app[5]\n",
    "    n_installs = n_installs.replace(',', '')\n",
    "    n_installs = n_installs.replace('+', '')\n",
    "    if (app[1] == 'BOOKS_AND_REFERENCE') and (float(n_installs) < 100000000):\n",
    "        books_and_reference_updated.append(float(n_installs))\n",
    "new_books_and_reference_updated=sum(books_and_reference_updated)/len(books_and_reference_updated)\n",
    "print(new_books_and_reference_updated)"
   ]
  },
  {
   "cell_type": "markdown",
   "metadata": {},
   "source": [
    "The new average installs for the Books and Reference category is about 1.5m. From the exploration of the whole genre above, it can be seen that religious books are quite popular, albeit with some fragmentation. There are many different version of the Quran with a total of about 48m+ downloads. A new strategy could be to create an app that consolidates all these different versions of the Quran, with some new extra features (such as audio in various languages, discussion forums etc) to encourage switching by users."
   ]
  },
  {
   "cell_type": "markdown",
   "metadata": {},
   "source": [
    "## Recommendation"
   ]
  },
  {
   "cell_type": "markdown",
   "metadata": {},
   "source": [
    "The aim of this analysis was to identify popular apps across the Playstore and the App Store that are free and in English, in order to inform the app development strategy of an app development company. The final recommendation of this analysis is as follows:\n",
    "- Across the iOS and Android apps, the Reference and Books & Reference (respectively) genres were found to be the most profitable for app developers as they struck the balance between scale (number of ratings/installations) and degree of competition (not too competitive to make standing out hard and not too uncompetitive to be dominated by few brands/apps).\n",
    "- A Quran app that consolidates the features(availability in different languages, availability in various lines per page etc) seen on the various Playstore apps to limit fragmentation  but also add new features such as audio/discussion forums to encourage user switching.\n",
    "- This approach is supported by the fact that the Quran app is the 5th most popular app in the Reference genre of iOS apps, with 18,418 user ratings."
   ]
  },
  {
   "cell_type": "code",
   "execution_count": null,
   "metadata": {
    "collapsed": true,
    "jupyter": {
     "outputs_hidden": true
    }
   },
   "outputs": [],
   "source": []
  }
 ],
 "metadata": {
  "kernelspec": {
   "display_name": "Python 3",
   "language": "python",
   "name": "python3"
  },
  "language_info": {
   "codemirror_mode": {
    "name": "ipython",
    "version": 3
   },
   "file_extension": ".py",
   "mimetype": "text/x-python",
   "name": "python",
   "nbconvert_exporter": "python",
   "pygments_lexer": "ipython3",
   "version": "3.7.3"
  }
 },
 "nbformat": 4,
 "nbformat_minor": 4
}
